{
 "cells": [
  {
   "cell_type": "markdown",
   "metadata": {},
   "source": [
    "# Udacity Deep Reinforcement Learning Nanodegree\n",
    "\n",
    "## Project 3 (Collaboration and Competition)\n",
    "\n",
    "---"
   ]
  },
  {
   "cell_type": "markdown",
   "metadata": {},
   "source": [
    "### 1. Environment setup\n",
    "\n",
    "Run this notebook on root directory, following the instructions provided on README.md file."
   ]
  },
  {
   "cell_type": "code",
   "execution_count": 1,
   "metadata": {},
   "outputs": [],
   "source": [
    "from unityagents import UnityEnvironment\n",
    "import numpy as np"
   ]
  },
  {
   "cell_type": "markdown",
   "metadata": {},
   "source": [
    "Next, we will start the environment!  **_Before running the code cell below_**, change the `env_filename` variable to point to the location of the Unity environment file."
   ]
  },
  {
   "cell_type": "code",
   "execution_count": 2,
   "metadata": {},
   "outputs": [],
   "source": [
    "env_filename = './Tennis_Linux_NoVis/Tennis.x86_64'"
   ]
  },
  {
   "cell_type": "code",
   "execution_count": 3,
   "metadata": {},
   "outputs": [
    {
     "name": "stderr",
     "output_type": "stream",
     "text": [
      "INFO:unityagents:\n",
      "'Academy' started successfully!\n",
      "Unity Academy name: Academy\n",
      "        Number of Brains: 1\n",
      "        Number of External Brains : 1\n",
      "        Lesson number : 0\n",
      "        Reset Parameters :\n",
      "\t\t\n",
      "Unity brain name: TennisBrain\n",
      "        Number of Visual Observations (per agent): 0\n",
      "        Vector Observation space type: continuous\n",
      "        Vector Observation space size (per agent): 8\n",
      "        Number of stacked Vector Observation: 3\n",
      "        Vector Action space type: continuous\n",
      "        Vector Action space size (per agent): 2\n",
      "        Vector Action descriptions: , \n"
     ]
    }
   ],
   "source": [
    "env = UnityEnvironment(file_name=env_filename)"
   ]
  },
  {
   "cell_type": "markdown",
   "metadata": {},
   "source": [
    "Environments contain **_brains_** which are responsible for deciding the actions of their associated agents. Here we check for the first brain available, and set it as the default brain we will be controlling from Python."
   ]
  },
  {
   "cell_type": "code",
   "execution_count": 4,
   "metadata": {},
   "outputs": [],
   "source": [
    "# get the default brain\n",
    "brain_name = env.brain_names[0]\n",
    "brain = env.brains[brain_name]"
   ]
  },
  {
   "cell_type": "markdown",
   "metadata": {},
   "source": [
    "### 2. Examine the State and Action Spaces\n",
    "\n",
    "In this environment, two agents control rackets to bounce a ball over a net. If an agent hits the ball over the net, it receives a reward of +0.1.  If an agent lets a ball hit the ground or hits the ball out of bounds, it receives a reward of -0.01.  Thus, the goal of each agent is to keep the ball in play.\n",
    "\n",
    "The observation space consists of 8 variables corresponding to the position and velocity of the ball and racket. Two continuous actions are available, corresponding to movement toward (or away from) the net, and jumping. \n",
    "\n",
    "Run the code cell below to print some information about the environment."
   ]
  },
  {
   "cell_type": "code",
   "execution_count": 5,
   "metadata": {},
   "outputs": [
    {
     "name": "stdout",
     "output_type": "stream",
     "text": [
      "Number of agents: 2\n",
      "Size of each action: 2\n",
      "There are 2 agents. Each observes a state with length: 24\n",
      "The state for the first agent looks like: [ 0.          0.          0.          0.          0.          0.\n",
      "  0.          0.          0.          0.          0.          0.\n",
      "  0.          0.          0.          0.         -6.65278625 -1.5\n",
      " -0.          0.          6.83172083  6.         -0.          0.        ]\n"
     ]
    }
   ],
   "source": [
    "# reset the environment\n",
    "env_info = env.reset(train_mode=True)[brain_name]\n",
    "\n",
    "# number of agents \n",
    "num_agents = len(env_info.agents)\n",
    "print('Number of agents:', num_agents)\n",
    "\n",
    "# size of each action\n",
    "action_size = brain.vector_action_space_size\n",
    "print('Size of each action:', action_size)\n",
    "\n",
    "# examine the state space \n",
    "states = env_info.vector_observations\n",
    "state_size = states.shape[1]\n",
    "print('There are {} agents. Each observes a state with length: {}'.format(states.shape[0], state_size))\n",
    "print('The state for the first agent looks like:', states[0])"
   ]
  },
  {
   "cell_type": "markdown",
   "metadata": {},
   "source": [
    "### 3. Take Random Actions in the Environment\n",
    "\n",
    "In the next code cell, you will learn how to use the Python API to control the agents and receive feedback from the environment.\n",
    "\n",
    "Once this cell is executed, you will watch the agents' performance, if they select actions at random with each time step.  A window should pop up that allows you to observe the agents.\n",
    "\n",
    "Of course, as part of the project, you'll have to change the code so that the agents are able to use their experiences to gradually choose better actions when interacting with the environment!"
   ]
  },
  {
   "cell_type": "code",
   "execution_count": 6,
   "metadata": {},
   "outputs": [
    {
     "name": "stdout",
     "output_type": "stream",
     "text": [
      "Score (max over agents) from episode 1: 0.0\n",
      "Score (max over agents) from episode 2: 0.0\n",
      "Score (max over agents) from episode 3: 0.10000000149011612\n",
      "Score (max over agents) from episode 4: 0.09000000171363354\n",
      "Score (max over agents) from episode 5: 0.0\n"
     ]
    }
   ],
   "source": [
    "for i in range(1, 6):                                      # play game for 5 episodes\n",
    "    env_info = env.reset(train_mode=False)[brain_name]     # reset the environment    \n",
    "    states = env_info.vector_observations                  # get the current state (for each agent)\n",
    "    scores = np.zeros(num_agents)                          # initialize the score (for each agent)\n",
    "    while True:\n",
    "        actions = np.random.randn(num_agents, action_size) # select an action (for each agent)\n",
    "        actions = np.clip(actions, -1, 1)                  # all actions between -1 and 1\n",
    "        env_info = env.step(actions)[brain_name]           # send all actions to tne environment\n",
    "        next_states = env_info.vector_observations         # get next state (for each agent)\n",
    "        rewards = env_info.rewards                         # get reward (for each agent)\n",
    "        dones = env_info.local_done                        # see if episode finished\n",
    "        scores += env_info.rewards                         # update the score (for each agent)\n",
    "        states = next_states                               # roll over states to next time step\n",
    "        if np.any(dones):                                  # exit loop if episode finished\n",
    "            break\n",
    "    print('Score (max over agents) from episode {}: {}'.format(i, np.max(scores)))"
   ]
  },
  {
   "cell_type": "markdown",
   "metadata": {},
   "source": [
    "When finished, you can close the environment."
   ]
  },
  {
   "cell_type": "markdown",
   "metadata": {},
   "source": [
    "### 4. It's Your Turn!\n",
    "\n",
    "Now it's your turn to train your own agent to solve the environment!  When training the environment, set `train_mode=True`, so that the line for resetting the environment looks like the following:\n",
    "```python\n",
    "env_info = env.reset(train_mode=True)[brain_name]\n",
    "```"
   ]
  },
  {
   "cell_type": "code",
   "execution_count": 7,
   "metadata": {},
   "outputs": [],
   "source": [
    "import matplotlib.pyplot as plt\n",
    "%matplotlib inline\n",
    "\n",
    "import random\n",
    "import torch\n",
    "\n",
    "from collections import deque\n",
    "from ddpg_agent import Agent"
   ]
  },
  {
   "cell_type": "code",
   "execution_count": 8,
   "metadata": {},
   "outputs": [],
   "source": [
    "# DDPG function\n",
    "\n",
    "def ddpg(agent, n_episodes=2500, max_t=1000, print_every=1):\n",
    "    \"\"\"Deep Deterministic Policy Gradient (DDPG)\n",
    "    \n",
    "    Params\n",
    "    ======\n",
    "        n_episodes  (int)   : maximum number of training episodes\n",
    "        max_t       (int)   : maximum number of timesteps per episode\n",
    "        print_every (int)   : interval to display results\n",
    "\n",
    "    \"\"\"\n",
    "    max_scores = []                               # list of max scores from each episode\n",
    "    moving_avgs = []                              # list of moving averages\n",
    "    best_score  = -np.inf\n",
    "    scores_window = deque(maxlen=100)              # mean scores from most recent 100 episodes\n",
    "\n",
    "    for i_episode in range(1, n_episodes+1):\n",
    "        env_info = env.reset(train_mode=True)[brain_name]       # reset environment\n",
    "        states = env_info.vector_observations                   # get current state for each agent      \n",
    "        scores = np.zeros(num_agents)                           # initialize score for each agent\n",
    "        agent.reset()\n",
    "\n",
    "        for t in range(max_t):\n",
    "            actions = agent.act(states, add_noise=True)  # select an action\n",
    "\n",
    "            env_info = env.step(actions)[brain_name]                    # send actions to environment\n",
    "            next_states = env_info.vector_observations                  # get next state\n",
    "            rewards = env_info.rewards                                  # get reward\n",
    "            dones = env_info.local_done                                 # see if episode has finished\n",
    "\n",
    "            # save experience to replay buffer, perform learning step at defined interval\n",
    "            for state, action, reward, next_state, done in zip(states, actions, rewards, next_states, dones):\n",
    "                agent.step(state, action, reward, next_state, done, t)\n",
    "            states = next_states\n",
    "            scores += rewards        \n",
    "            if np.any(dones):                                   # exit loop when episode ends\n",
    "                break\n",
    "\n",
    "        max_scores.append(np.max(scores))           # save max score for the episode\n",
    "        scores_window.append(max_scores[-1])        # save max score to window\n",
    "        moving_avgs.append(np.mean(scores_window))  # save moving average\n",
    "\n",
    "        if i_episode % print_every == 0:\n",
    "            print('\\rEpisode {} > Max: {:.1f} \\t Moving Avg: {:.1f}'.format(str(i_episode).zfill(4),\n",
    "                                                                            max_scores[-1], moving_avgs[-1]))\n",
    "\n",
    "        if moving_avgs[-1] >= 0.5 and i_episode >= 100:\n",
    "            print('\\nEnvironment solved in {:d} episodes! Average Score: {:.2f}'.format(i_episode-100, moving_avgs[-1]))\n",
    "            torch.save(agent.actor_local.state_dict(), 'checkpoint_actor.pth')\n",
    "            torch.save(agent.critic_local.state_dict(), 'checkpoint_critic.pth')\n",
    "            break\n",
    "\n",
    "    return max_scores, moving_avgs"
   ]
  },
  {
   "cell_type": "code",
   "execution_count": 9,
   "metadata": {
    "scrolled": false
   },
   "outputs": [
    {
     "name": "stdout",
     "output_type": "stream",
     "text": [
      "Episode 0010 > Max: 0.0 \t Moving Avg: 0.0\n",
      "Episode 0020 > Max: 0.0 \t Moving Avg: 0.0\n",
      "Episode 0030 > Max: 0.0 \t Moving Avg: 0.0\n",
      "Episode 0040 > Max: 0.0 \t Moving Avg: 0.0\n",
      "Episode 0050 > Max: 0.0 \t Moving Avg: 0.0\n",
      "Episode 0060 > Max: 0.0 \t Moving Avg: 0.0\n",
      "Episode 0070 > Max: 0.0 \t Moving Avg: 0.0\n",
      "Episode 0080 > Max: 0.0 \t Moving Avg: 0.0\n",
      "Episode 0090 > Max: 0.0 \t Moving Avg: 0.0\n",
      "Episode 0100 > Max: 0.0 \t Moving Avg: 0.0\n",
      "Episode 0110 > Max: 0.0 \t Moving Avg: 0.0\n",
      "Episode 0120 > Max: 0.0 \t Moving Avg: 0.0\n",
      "Episode 0130 > Max: 0.0 \t Moving Avg: 0.0\n",
      "Episode 0140 > Max: 0.0 \t Moving Avg: 0.0\n",
      "Episode 0150 > Max: 0.1 \t Moving Avg: 0.0\n",
      "Episode 0160 > Max: 0.0 \t Moving Avg: 0.0\n",
      "Episode 0170 > Max: 0.0 \t Moving Avg: 0.0\n",
      "Episode 0180 > Max: 0.0 \t Moving Avg: 0.0\n",
      "Episode 0190 > Max: 0.0 \t Moving Avg: 0.0\n",
      "Episode 0200 > Max: 0.0 \t Moving Avg: 0.0\n",
      "Episode 0210 > Max: 0.0 \t Moving Avg: 0.0\n",
      "Episode 0220 > Max: 0.0 \t Moving Avg: 0.0\n",
      "Episode 0230 > Max: 0.0 \t Moving Avg: 0.0\n",
      "Episode 0240 > Max: 0.0 \t Moving Avg: 0.0\n",
      "Episode 0250 > Max: 0.0 \t Moving Avg: 0.0\n",
      "Episode 0260 > Max: 0.0 \t Moving Avg: 0.0\n",
      "Episode 0270 > Max: 0.0 \t Moving Avg: 0.0\n",
      "Episode 0280 > Max: 0.0 \t Moving Avg: 0.0\n",
      "Episode 0290 > Max: 0.0 \t Moving Avg: 0.0\n",
      "Episode 0300 > Max: 0.0 \t Moving Avg: 0.0\n",
      "Episode 0310 > Max: 0.0 \t Moving Avg: 0.0\n",
      "Episode 0320 > Max: 0.0 \t Moving Avg: 0.0\n",
      "Episode 0330 > Max: 0.0 \t Moving Avg: 0.0\n",
      "Episode 0340 > Max: 0.0 \t Moving Avg: 0.0\n",
      "Episode 0350 > Max: 0.0 \t Moving Avg: 0.0\n",
      "Episode 0360 > Max: 0.0 \t Moving Avg: 0.0\n",
      "Episode 0370 > Max: 0.0 \t Moving Avg: 0.0\n",
      "Episode 0380 > Max: 0.0 \t Moving Avg: 0.0\n",
      "Episode 0390 > Max: 0.0 \t Moving Avg: 0.0\n",
      "Episode 0400 > Max: 0.0 \t Moving Avg: 0.0\n",
      "Episode 0410 > Max: 0.0 \t Moving Avg: 0.0\n",
      "Episode 0420 > Max: 0.0 \t Moving Avg: 0.0\n",
      "Episode 0430 > Max: 0.0 \t Moving Avg: 0.0\n",
      "Episode 0440 > Max: 0.0 \t Moving Avg: 0.0\n",
      "Episode 0450 > Max: 0.0 \t Moving Avg: 0.0\n",
      "Episode 0460 > Max: 0.0 \t Moving Avg: 0.0\n",
      "Episode 0470 > Max: 0.0 \t Moving Avg: 0.0\n",
      "Episode 0480 > Max: 0.0 \t Moving Avg: 0.0\n",
      "Episode 0490 > Max: 0.0 \t Moving Avg: 0.0\n",
      "Episode 0500 > Max: 0.0 \t Moving Avg: 0.0\n",
      "Episode 0510 > Max: 0.0 \t Moving Avg: 0.0\n",
      "Episode 0520 > Max: 0.0 \t Moving Avg: 0.0\n",
      "Episode 0530 > Max: 0.0 \t Moving Avg: 0.0\n",
      "Episode 0540 > Max: 0.0 \t Moving Avg: 0.0\n",
      "Episode 0550 > Max: 0.0 \t Moving Avg: 0.0\n",
      "Episode 0560 > Max: 0.0 \t Moving Avg: 0.0\n",
      "Episode 0570 > Max: 0.0 \t Moving Avg: 0.0\n",
      "Episode 0580 > Max: 0.0 \t Moving Avg: 0.0\n",
      "Episode 0590 > Max: 0.0 \t Moving Avg: 0.0\n",
      "Episode 0600 > Max: 0.0 \t Moving Avg: 0.0\n",
      "Episode 0610 > Max: 0.0 \t Moving Avg: 0.0\n",
      "Episode 0620 > Max: 0.0 \t Moving Avg: 0.0\n",
      "Episode 0630 > Max: 0.0 \t Moving Avg: 0.0\n",
      "Episode 0640 > Max: 0.0 \t Moving Avg: 0.0\n",
      "Episode 0650 > Max: 0.0 \t Moving Avg: 0.0\n",
      "Episode 0660 > Max: 0.0 \t Moving Avg: 0.0\n",
      "Episode 0670 > Max: 0.0 \t Moving Avg: 0.0\n",
      "Episode 0680 > Max: 0.0 \t Moving Avg: 0.0\n",
      "Episode 0690 > Max: 0.0 \t Moving Avg: 0.0\n",
      "Episode 0700 > Max: 0.0 \t Moving Avg: 0.0\n",
      "Episode 0710 > Max: 0.0 \t Moving Avg: 0.0\n",
      "Episode 0720 > Max: 0.0 \t Moving Avg: 0.0\n",
      "Episode 0730 > Max: 0.0 \t Moving Avg: 0.0\n",
      "Episode 0740 > Max: 0.0 \t Moving Avg: 0.0\n",
      "Episode 0750 > Max: 0.0 \t Moving Avg: 0.0\n",
      "Episode 0760 > Max: 0.0 \t Moving Avg: 0.0\n",
      "Episode 0770 > Max: 0.0 \t Moving Avg: 0.0\n",
      "Episode 0780 > Max: 0.0 \t Moving Avg: 0.0\n",
      "Episode 0790 > Max: 0.0 \t Moving Avg: 0.0\n",
      "Episode 0800 > Max: 0.0 \t Moving Avg: 0.0\n",
      "Episode 0810 > Max: 0.0 \t Moving Avg: 0.0\n",
      "Episode 0820 > Max: 0.0 \t Moving Avg: 0.0\n",
      "Episode 0830 > Max: 0.0 \t Moving Avg: 0.0\n",
      "Episode 0840 > Max: 0.0 \t Moving Avg: 0.0\n",
      "Episode 0850 > Max: 0.0 \t Moving Avg: 0.0\n",
      "Episode 0860 > Max: 0.0 \t Moving Avg: 0.0\n",
      "Episode 0870 > Max: 0.0 \t Moving Avg: 0.0\n",
      "Episode 0880 > Max: 0.0 \t Moving Avg: 0.0\n",
      "Episode 0890 > Max: 0.0 \t Moving Avg: 0.0\n",
      "Episode 0900 > Max: 0.0 \t Moving Avg: 0.0\n",
      "Episode 0910 > Max: 0.0 \t Moving Avg: 0.0\n",
      "Episode 0920 > Max: 0.1 \t Moving Avg: 0.0\n",
      "Episode 0930 > Max: 0.0 \t Moving Avg: 0.0\n",
      "Episode 0940 > Max: 0.1 \t Moving Avg: 0.0\n",
      "Episode 0950 > Max: 0.1 \t Moving Avg: 0.0\n",
      "Episode 0960 > Max: 0.1 \t Moving Avg: 0.0\n",
      "Episode 0970 > Max: 0.1 \t Moving Avg: 0.0\n",
      "Episode 0980 > Max: 0.1 \t Moving Avg: 0.1\n",
      "Episode 0990 > Max: 0.0 \t Moving Avg: 0.1\n",
      "Episode 1000 > Max: 0.1 \t Moving Avg: 0.1\n",
      "Episode 1010 > Max: 0.1 \t Moving Avg: 0.1\n",
      "Episode 1020 > Max: 0.1 \t Moving Avg: 0.1\n",
      "Episode 1030 > Max: 0.1 \t Moving Avg: 0.1\n",
      "Episode 1040 > Max: 0.1 \t Moving Avg: 0.1\n",
      "Episode 1050 > Max: 0.1 \t Moving Avg: 0.1\n",
      "Episode 1060 > Max: 0.1 \t Moving Avg: 0.1\n",
      "Episode 1070 > Max: 0.1 \t Moving Avg: 0.1\n",
      "Episode 1080 > Max: 0.1 \t Moving Avg: 0.1\n",
      "Episode 1090 > Max: 0.3 \t Moving Avg: 0.1\n",
      "Episode 1100 > Max: 0.1 \t Moving Avg: 0.1\n",
      "Episode 1110 > Max: 0.1 \t Moving Avg: 0.1\n",
      "Episode 1120 > Max: 0.1 \t Moving Avg: 0.1\n",
      "Episode 1130 > Max: 0.5 \t Moving Avg: 0.2\n",
      "Episode 1140 > Max: 0.1 \t Moving Avg: 0.2\n",
      "Episode 1150 > Max: 0.1 \t Moving Avg: 0.2\n",
      "Episode 1160 > Max: 0.1 \t Moving Avg: 0.2\n",
      "Episode 1170 > Max: 0.1 \t Moving Avg: 0.2\n",
      "Episode 1180 > Max: 0.1 \t Moving Avg: 0.2\n",
      "Episode 1190 > Max: 0.3 \t Moving Avg: 0.2\n",
      "Episode 1200 > Max: 0.2 \t Moving Avg: 0.2\n",
      "Episode 1210 > Max: 0.1 \t Moving Avg: 0.2\n",
      "Episode 1220 > Max: 0.3 \t Moving Avg: 0.2\n",
      "Episode 1230 > Max: 0.1 \t Moving Avg: 0.2\n",
      "Episode 1240 > Max: 0.4 \t Moving Avg: 0.2\n",
      "Episode 1250 > Max: 0.3 \t Moving Avg: 0.2\n",
      "Episode 1260 > Max: 0.1 \t Moving Avg: 0.2\n",
      "Episode 1270 > Max: 0.1 \t Moving Avg: 0.2\n",
      "Episode 1280 > Max: 0.1 \t Moving Avg: 0.2\n",
      "Episode 1290 > Max: 0.2 \t Moving Avg: 0.2\n",
      "Episode 1300 > Max: 0.3 \t Moving Avg: 0.2\n",
      "Episode 1310 > Max: 0.1 \t Moving Avg: 0.2\n",
      "Episode 1320 > Max: 0.1 \t Moving Avg: 0.2\n",
      "Episode 1330 > Max: 0.1 \t Moving Avg: 0.2\n",
      "Episode 1340 > Max: 0.2 \t Moving Avg: 0.2\n",
      "Episode 1350 > Max: 0.3 \t Moving Avg: 0.3\n",
      "Episode 1360 > Max: 0.0 \t Moving Avg: 0.3\n",
      "Episode 1370 > Max: 0.2 \t Moving Avg: 0.3\n",
      "Episode 1380 > Max: 0.7 \t Moving Avg: 0.3\n",
      "Episode 1390 > Max: 0.1 \t Moving Avg: 0.3\n",
      "Episode 1400 > Max: 0.0 \t Moving Avg: 0.3\n",
      "Episode 1410 > Max: 0.9 \t Moving Avg: 0.3\n",
      "Episode 1420 > Max: 1.2 \t Moving Avg: 0.4\n",
      "\n",
      "Environment solved in 1329 episodes! Average Score: 0.51\n"
     ]
    }
   ],
   "source": [
    "# run the training loop\n",
    "agent = Agent(state_size=state_size, action_size=action_size)\n",
    "scores, avgs = ddpg(agent, print_every=10)"
   ]
  },
  {
   "cell_type": "code",
   "execution_count": 10,
   "metadata": {},
   "outputs": [
    {
     "data": {
      "image/png": "[encoded data removed]",
      "text/plain": [
       "<Figure size 432x288 with 1 Axes>"
      ]
     },
     "metadata": {
      "needs_background": "light"
     },
     "output_type": "display_data"
    }
   ],
   "source": [
    "# plot the scores\n",
    "fig = plt.figure()\n",
    "ax = fig.add_subplot(111)\n",
    "plt.plot(np.arange(len(scores)), scores, label='DDPG')\n",
    "plt.plot(np.arange(len(scores)), avgs, c='r', label='Moving AVG')\n",
    "plt.ylabel('Score')\n",
    "plt.xlabel('Episode #')\n",
    "plt.legend(loc='upper left');\n",
    "plt.show()"
   ]
  },
  {
   "cell_type": "code",
   "execution_count": 11,
   "metadata": {},
   "outputs": [],
   "source": [
    "env.close()"
   ]
  }
 ],
 "metadata": {
  "kernelspec": {
   "display_name": "Python 3",
   "language": "python",
   "name": "python3"
  },
  "language_info": {
   "codemirror_mode": {
    "name": "ipython",
    "version": 3
   },
   "file_extension": ".py",
   "mimetype": "text/x-python",
   "name": "python",
   "nbconvert_exporter": "python",
   "pygments_lexer": "ipython3",
   "version": "3.7.3"
  }
 },
 "nbformat": 4,
 "nbformat_minor": 2
}
